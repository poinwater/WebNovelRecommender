{
 "cells": [
  {
   "cell_type": "code",
   "execution_count": 2,
   "id": "stretch-cement",
   "metadata": {},
   "outputs": [],
   "source": [
    "import tensorflow as tf\n",
    "import numpy as np\n",
    "import pandas as pd\n",
    "import json\n",
    "import requests"
   ]
  },
  {
   "cell_type": "code",
   "execution_count": 27,
   "id": "precise-courage",
   "metadata": {},
   "outputs": [
    {
     "ename": "NameError",
     "evalue": "name 'REQUEST' is not defined",
     "output_type": "error",
     "traceback": [
      "\u001b[0;31m---------------------------------------------------------------------------\u001b[0m",
      "\u001b[0;31mNameError\u001b[0m                                 Traceback (most recent call last)",
      "\u001b[0;32m<ipython-input-27-74044df57c1c>\u001b[0m in \u001b[0;36m<module>\u001b[0;34m\u001b[0m\n\u001b[1;32m      1\u001b[0m \u001b[0;31m# GET /api/contents\u001b[0m\u001b[0;34m\u001b[0m\u001b[0;34m\u001b[0m\u001b[0;34m\u001b[0m\u001b[0m\n\u001b[0;32m----> 2\u001b[0;31m \u001b[0mreq\u001b[0m \u001b[0;34m=\u001b[0m \u001b[0mjson\u001b[0m\u001b[0;34m.\u001b[0m\u001b[0mloads\u001b[0m\u001b[0;34m(\u001b[0m\u001b[0mREQUEST\u001b[0m\u001b[0;34m)\u001b[0m\u001b[0;34m\u001b[0m\u001b[0;34m\u001b[0m\u001b[0m\n\u001b[0m\u001b[1;32m      3\u001b[0m \u001b[0margs\u001b[0m \u001b[0;34m=\u001b[0m \u001b[0mreq\u001b[0m\u001b[0;34m[\u001b[0m\u001b[0;34m'args'\u001b[0m\u001b[0;34m]\u001b[0m\u001b[0;34m\u001b[0m\u001b[0;34m\u001b[0m\u001b[0m\n\u001b[1;32m      4\u001b[0m \u001b[0mpath\u001b[0m \u001b[0;34m=\u001b[0m \u001b[0;34m\"/Users/bcghostpc/test/MyRecommander/\"\u001b[0m\u001b[0;34m\u001b[0m\u001b[0;34m\u001b[0m\u001b[0m\n\u001b[1;32m      5\u001b[0m \u001b[0mbook_titles\u001b[0m \u001b[0;34m=\u001b[0m \u001b[0mpd\u001b[0m\u001b[0;34m.\u001b[0m\u001b[0mread_csv\u001b[0m\u001b[0;34m(\u001b[0m\u001b[0mpath\u001b[0m \u001b[0;34m+\u001b[0m \u001b[0;34m\"book_titles.csv\"\u001b[0m\u001b[0;34m,\u001b[0m \u001b[0mindex_col\u001b[0m\u001b[0;34m=\u001b[0m\u001b[0;36m0\u001b[0m\u001b[0;34m)\u001b[0m\u001b[0;34m\u001b[0m\u001b[0;34m\u001b[0m\u001b[0m\n",
      "\u001b[0;31mNameError\u001b[0m: name 'REQUEST' is not defined"
     ]
    }
   ],
   "source": [
    "# GET /api/contents\n",
    "\n",
    "req = json.loads(REQUEST)\n",
    "args = req['args']\n",
    "path = \"/home/ec2-user/API\"\n",
    "book_titles = pd.read_csv(path + \"book_titles.csv\", index_col=0)\n",
    "book_ids = np.load(path + 'book_id.npy')\n",
    "new_books = pd.read_csv(path + \"books_info.csv\")\n",
    "def getBooks(userBooks, item):\n",
    "    books = item['data']['books']\n",
    "    for book in books:\n",
    "        book_id = book['bookId']['bookId']\n",
    "        score = book['score']\n",
    "        userBooks[book_id] = score\n",
    "    return userBooks\n",
    "\n",
    "def getUserData(link):\n",
    "    try:\n",
    "        userBooks = {}\n",
    "        book_list = link.split('/')[-1]\n",
    "        if not book_list or 'user' in book_list:\n",
    "            raise Exception\n",
    "        page = 1\n",
    "        api = f'https://api.yousuu.com/api/booklist/{book_list}?page={page}&sort=default&classId=&t=1614640989048'\n",
    "        item = requests.get(api).json()\n",
    "        pages = item['data']['total'] // 20\n",
    "        userBooks = getBooks(userBooks, item)\n",
    "        for page in range(2, pages + 1):\n",
    "            api = f'https://api.yousuu.com/api/booklist/{book_list}?page={page}&sort=default&classId=&t=1614640989048'\n",
    "            item = requests.get(api).json()\n",
    "            userBooks = getBooks(userBooks, item)\n",
    "        return userBooks\n",
    "    except Exception as e:\n",
    "        print(e, 'Not valid response')\n",
    "    \n",
    "def transferTensor(book_ids, userBooks):\n",
    "    userData = np.zeros((1, len(book_ids)), dtype='float32')\n",
    "    for i in range(len(book_ids)):\n",
    "        userData[0, i] = 1 if book_ids[i] in userBooks else 0\n",
    "    userData = userData.reshape(userData.shape[1],)\n",
    "    v0 = tf.convert_to_tensor(userData, 'float32')\n",
    "    return v0\n",
    "\n",
    "def predict(book_titles, v0, books, new_books):\n",
    "    W = np.load(path + 'W.npy')\n",
    "    hb = np.load(path + 'hb.npy')\n",
    "    vb = np.load(path + 'vb.npy')\n",
    "    hh0 = tf.nn.sigmoid(tf.matmul([v0], W) + hb)\n",
    "    vv1 = tf.nn.sigmoid(tf.matmul(hh0, tf.transpose(W)) + vb)\n",
    "    rec = vv1\n",
    "    tf.maximum(rec, 1)\n",
    "    df = pd.DataFrame(columns=book_ids)\n",
    "    input_data = pd.DataFrame(columns=books.keys())\n",
    "    scored_books_df_mock = book_titles[book_titles['book_id'].isin(df.columns)]\n",
    "    scored_books_df_mock = scored_books_df_mock.assign(scores = rec[0])\n",
    "    merged_df_mock = scored_books_df_mock[-scored_books_df_mock['book_id'].isin(input_data.columns)]\n",
    "    merged_df_mock = merged_df_mock[merged_df_mock['book_id'].isin(new_books['bookId'])]\n",
    "    recommendation = merged_df_mock.sort_values([\"scores\"], ascending=False).head(20)\n",
    "    return recommendation[['title', 'scores']]\n",
    "\n",
    "\n",
    "book_titles = pd.read_csv(path + \"book_titles.csv\", index_col=0)\n",
    "if 'link' not in args:\n",
    "    print(json.dumps({'RecommendTable':None}))\n",
    "else:\n",
    "    link = args['link'][0]\n",
    "    if 'booklist' not in link or 'yousuu.com' not in link:\n",
    "         print(\"Not valid response\")\n",
    "    else:\n",
    "        userBooks = getUserData(link)\n",
    "        v0 = transferTensor(book_ids, userBooks)\n",
    "        r = predict(book_titles, v0, userBooks, new_books)\n",
    "        r = r.to_json()\n",
    "        print(r)"
   ]
  }
 ],
 "metadata": {
  "kernelspec": {
   "display_name": "tf",
   "language": "python",
   "name": "tf"
  },
  "language_info": {
   "codemirror_mode": {
    "name": "ipython",
    "version": 3
   },
   "file_extension": ".py",
   "mimetype": "text/x-python",
   "name": "python",
   "nbconvert_exporter": "python",
   "pygments_lexer": "ipython3",
   "version": "3.8.8"
  }
 },
 "nbformat": 4,
 "nbformat_minor": 5
}
